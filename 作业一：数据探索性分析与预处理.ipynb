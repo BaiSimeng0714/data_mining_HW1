{
 "cells": [
  {
   "cell_type": "markdown",
   "metadata": {},
   "source": [
    "姓名：白思萌\n",
    "学号：3120190975\n",
    "学院：计算机学院"
   ]
  },
  {
   "cell_type": "markdown",
   "metadata": {},
   "source": [
    "# Wine Reviews 数据集"
   ]
  },
  {
   "cell_type": "markdown",
   "metadata": {},
   "source": [
    "## 数据准备"
   ]
  },
  {
   "cell_type": "markdown",
   "metadata": {},
   "source": [
    "   数据集主页：https://www.kaggle.com/zynicide/wine-reviews\n",
    "\n",
    "   首先，导入数据分析与处理所需的数据模块。"
   ]
  },
  {
   "cell_type": "code",
   "execution_count": 1,
   "metadata": {},
   "outputs": [],
   "source": [
    "import pandas as pd\n",
    "import numpy as np\n",
    "import statsmodels.api as sm\n",
    "from sklearn.ensemble import RandomForestClassifier\n",
    "import warnings \n",
    "warnings.filterwarnings('ignore')\n",
    "from matplotlib import pyplot as plt\n",
    "%matplotlib inline"
   ]
  },
  {
   "cell_type": "markdown",
   "metadata": {},
   "source": [
    "   其次，导入数据。此数据集中包含两个csv文件，分别进行导入。其中wine表示本次数据集的版本1，wine_v2表示版本2。版本2是在版本1的基础上进行清理并添加三个属性后的结果，可作为版本1清理数据的对比。"
   ]
  },
  {
   "cell_type": "code",
   "execution_count": 2,
   "metadata": {},
   "outputs": [
    {
     "name": "stdout",
     "output_type": "stream",
     "text": [
      "150930 129971\n"
     ]
    }
   ],
   "source": [
    "wine = pd.read_csv(\"winemag-data_first150k.csv\",index_col=0)\n",
    "wine_v2 = pd.read_csv(\"winemag-data-130k-v2.csv\",index_col=0)\n",
    "print (wine.shape[0],wine_v2.shape[0])"
   ]
  },
  {
   "cell_type": "markdown",
   "metadata": {},
   "source": [
    "通过结果可以看出，版本2比版本1的数量减少了20959。"
   ]
  },
  {
   "cell_type": "markdown",
   "metadata": {},
   "source": [
    "## 数据可视化和摘要"
   ]
  },
  {
   "cell_type": "markdown",
   "metadata": {},
   "source": [
    "### 数据摘要"
   ]
  },
  {
   "cell_type": "markdown",
   "metadata": {},
   "source": [
    "   首先，先对数据进行信息统计。"
   ]
  },
  {
   "cell_type": "code",
   "execution_count": 3,
   "metadata": {},
   "outputs": [
    {
     "name": "stdout",
     "output_type": "stream",
     "text": [
      "10 colunms\n",
      "150930 rows\n",
      "\n",
      "object     8\n",
      "int64      1\n",
      "float64    1\n",
      "dtype: int64\n"
     ]
    }
   ],
   "source": [
    "print('%d colunms' % len(wine.columns))\n",
    "print('%d rows' % len(wine.index))\n",
    "print()\n",
    "print(wine.dtypes.value_counts())"
   ]
  },
  {
   "cell_type": "markdown",
   "metadata": {},
   "source": [
    "   数据的前5行如下所示。"
   ]
  },
  {
   "cell_type": "code",
   "execution_count": 4,
   "metadata": {},
   "outputs": [
    {
     "data": {
      "text/html": [
       "<div>\n",
       "<style scoped>\n",
       "    .dataframe tbody tr th:only-of-type {\n",
       "        vertical-align: middle;\n",
       "    }\n",
       "\n",
       "    .dataframe tbody tr th {\n",
       "        vertical-align: top;\n",
       "    }\n",
       "\n",
       "    .dataframe thead th {\n",
       "        text-align: right;\n",
       "    }\n",
       "</style>\n",
       "<table border=\"1\" class=\"dataframe\">\n",
       "  <thead>\n",
       "    <tr style=\"text-align: right;\">\n",
       "      <th></th>\n",
       "      <th>country</th>\n",
       "      <th>description</th>\n",
       "      <th>designation</th>\n",
       "      <th>points</th>\n",
       "      <th>price</th>\n",
       "      <th>province</th>\n",
       "      <th>region_1</th>\n",
       "      <th>region_2</th>\n",
       "      <th>variety</th>\n",
       "      <th>winery</th>\n",
       "    </tr>\n",
       "  </thead>\n",
       "  <tbody>\n",
       "    <tr>\n",
       "      <th>0</th>\n",
       "      <td>US</td>\n",
       "      <td>This tremendous 100% varietal wine hails from ...</td>\n",
       "      <td>Martha's Vineyard</td>\n",
       "      <td>96</td>\n",
       "      <td>235.0</td>\n",
       "      <td>California</td>\n",
       "      <td>Napa Valley</td>\n",
       "      <td>Napa</td>\n",
       "      <td>Cabernet Sauvignon</td>\n",
       "      <td>Heitz</td>\n",
       "    </tr>\n",
       "    <tr>\n",
       "      <th>1</th>\n",
       "      <td>Spain</td>\n",
       "      <td>Ripe aromas of fig, blackberry and cassis are ...</td>\n",
       "      <td>Carodorum Selección Especial Reserva</td>\n",
       "      <td>96</td>\n",
       "      <td>110.0</td>\n",
       "      <td>Northern Spain</td>\n",
       "      <td>Toro</td>\n",
       "      <td>NaN</td>\n",
       "      <td>Tinta de Toro</td>\n",
       "      <td>Bodega Carmen Rodríguez</td>\n",
       "    </tr>\n",
       "    <tr>\n",
       "      <th>2</th>\n",
       "      <td>US</td>\n",
       "      <td>Mac Watson honors the memory of a wine once ma...</td>\n",
       "      <td>Special Selected Late Harvest</td>\n",
       "      <td>96</td>\n",
       "      <td>90.0</td>\n",
       "      <td>California</td>\n",
       "      <td>Knights Valley</td>\n",
       "      <td>Sonoma</td>\n",
       "      <td>Sauvignon Blanc</td>\n",
       "      <td>Macauley</td>\n",
       "    </tr>\n",
       "    <tr>\n",
       "      <th>3</th>\n",
       "      <td>US</td>\n",
       "      <td>This spent 20 months in 30% new French oak, an...</td>\n",
       "      <td>Reserve</td>\n",
       "      <td>96</td>\n",
       "      <td>65.0</td>\n",
       "      <td>Oregon</td>\n",
       "      <td>Willamette Valley</td>\n",
       "      <td>Willamette Valley</td>\n",
       "      <td>Pinot Noir</td>\n",
       "      <td>Ponzi</td>\n",
       "    </tr>\n",
       "    <tr>\n",
       "      <th>4</th>\n",
       "      <td>France</td>\n",
       "      <td>This is the top wine from La Bégude, named aft...</td>\n",
       "      <td>La Brûlade</td>\n",
       "      <td>95</td>\n",
       "      <td>66.0</td>\n",
       "      <td>Provence</td>\n",
       "      <td>Bandol</td>\n",
       "      <td>NaN</td>\n",
       "      <td>Provence red blend</td>\n",
       "      <td>Domaine de la Bégude</td>\n",
       "    </tr>\n",
       "  </tbody>\n",
       "</table>\n",
       "</div>"
      ],
      "text/plain": [
       "  country                                        description  \\\n",
       "0      US  This tremendous 100% varietal wine hails from ...   \n",
       "1   Spain  Ripe aromas of fig, blackberry and cassis are ...   \n",
       "2      US  Mac Watson honors the memory of a wine once ma...   \n",
       "3      US  This spent 20 months in 30% new French oak, an...   \n",
       "4  France  This is the top wine from La Bégude, named aft...   \n",
       "\n",
       "                            designation  points  price        province  \\\n",
       "0                     Martha's Vineyard      96  235.0      California   \n",
       "1  Carodorum Selección Especial Reserva      96  110.0  Northern Spain   \n",
       "2         Special Selected Late Harvest      96   90.0      California   \n",
       "3                               Reserve      96   65.0          Oregon   \n",
       "4                            La Brûlade      95   66.0        Provence   \n",
       "\n",
       "            region_1           region_2             variety  \\\n",
       "0        Napa Valley               Napa  Cabernet Sauvignon   \n",
       "1               Toro                NaN       Tinta de Toro   \n",
       "2     Knights Valley             Sonoma     Sauvignon Blanc   \n",
       "3  Willamette Valley  Willamette Valley          Pinot Noir   \n",
       "4             Bandol                NaN  Provence red blend   \n",
       "\n",
       "                    winery  \n",
       "0                    Heitz  \n",
       "1  Bodega Carmen Rodríguez  \n",
       "2                 Macauley  \n",
       "3                    Ponzi  \n",
       "4     Domaine de la Bégude  "
      ]
     },
     "execution_count": 4,
     "metadata": {},
     "output_type": "execute_result"
    }
   ],
   "source": [
    "wine.head(5)"
   ]
  },
  {
   "cell_type": "markdown",
   "metadata": {},
   "source": [
    "   因此，可以分析出该数据集中包含2个数值属性，分别为points和price两个属性。其余8个为标称属性，由于标称属性的数量较多，此处分析以country和province为例。"
   ]
  },
  {
   "cell_type": "markdown",
   "metadata": {},
   "source": [
    "**标称属性摘要**"
   ]
  },
  {
   "cell_type": "markdown",
   "metadata": {},
   "source": [
    "   定义统计函数Count_Nominal(column_name)，统计标称属性中不同值的出现次数和频率，展示出现频率最高的前10个值。"
   ]
  },
  {
   "cell_type": "code",
   "execution_count": 5,
   "metadata": {},
   "outputs": [],
   "source": [
    "def Count_Nominal(column_name):\n",
    "    column = wine[column_name].value_counts()\n",
    "    print('Column name:',column_name)\n",
    "    print(\"%d different values\" % len(column))\n",
    "    print()\n",
    "    column_df = column.to_frame()\n",
    "    column_df['frequency'] = column.apply(lambda x:x / len(wine.index))\n",
    "    print(column_df.iloc[:10])\n",
    "    print('......')\n",
    "    \n",
    "    plt.bar(np.arange(10),column.iloc[:10])\n",
    "    plt.title(column_name)\n",
    "    plt.show()"
   ]
  },
  {
   "cell_type": "markdown",
   "metadata": {},
   "source": [
    "   统计标称属性country如下。"
   ]
  },
  {
   "cell_type": "code",
   "execution_count": 6,
   "metadata": {},
   "outputs": [
    {
     "name": "stdout",
     "output_type": "stream",
     "text": [
      "Column name: country\n",
      "48 different values\n",
      "\n",
      "             country  frequency\n",
      "US             62397   0.413417\n",
      "Italy          23478   0.155556\n",
      "France         21098   0.139787\n",
      "Spain           8268   0.054780\n",
      "Chile           5816   0.038534\n",
      "Argentina       5631   0.037309\n",
      "Portugal        5322   0.035261\n",
      "Australia       4957   0.032843\n",
      "New Zealand     3320   0.021997\n",
      "Austria         3057   0.020254\n",
      "......\n"
     ]
    },
    {
     "data": {
      "image/png": "[encoded data removed]",
      "text/plain": [
       "<Figure size 432x288 with 1 Axes>"
      ]
     },
     "metadata": {
      "needs_background": "light"
     },
     "output_type": "display_data"
    }
   ],
   "source": [
    "Count_Nominal('country')"
   ]
  },
  {
   "cell_type": "markdown",
   "metadata": {},
   "source": [
    "   统计标称属性province如下。"
   ]
  },
  {
   "cell_type": "code",
   "execution_count": 7,
   "metadata": {},
   "outputs": [
    {
     "name": "stdout",
     "output_type": "stream",
     "text": [
      "Column name: province\n",
      "455 different values\n",
      "\n",
      "                  province  frequency\n",
      "California           44508   0.294892\n",
      "Washington            9750   0.064599\n",
      "Tuscany               7281   0.048241\n",
      "Bordeaux              6111   0.040489\n",
      "Northern Spain        4892   0.032412\n",
      "Mendoza Province      4742   0.031419\n",
      "Oregon                4589   0.030405\n",
      "Burgundy              4308   0.028543\n",
      "Piedmont              4093   0.027119\n",
      "Veneto                3962   0.026251\n",
      "......\n"
     ]
    },
    {
     "data": {
      "image/png": "[encoded data removed]",
      "text/plain": [
       "<Figure size 432x288 with 1 Axes>"
      ]
     },
     "metadata": {
      "needs_background": "light"
     },
     "output_type": "display_data"
    }
   ],
   "source": [
    "Count_Nominal('province')"
   ]
  },
  {
   "cell_type": "markdown",
   "metadata": {},
   "source": [
    "**数值属性摘要**"
   ]
  },
  {
   "cell_type": "markdown",
   "metadata": {},
   "source": [
    "   首先，对数值属性的缺失值个数进行统计。"
   ]
  },
  {
   "cell_type": "code",
   "execution_count": 8,
   "metadata": {},
   "outputs": [
    {
     "name": "stdout",
     "output_type": "stream",
     "text": [
      "points: 0\n",
      "price: 13695\n"
     ]
    }
   ],
   "source": [
    "print('points:',wine['points'].isnull().sum())\n",
    "print('price:',wine['price'].isnull().sum())"
   ]
  },
  {
   "cell_type": "markdown",
   "metadata": {},
   "source": [
    "   从结果中，可得出，数值属性points缺失值个数为0，price缺失值个数为13695。"
   ]
  },
  {
   "cell_type": "markdown",
   "metadata": {},
   "source": [
    "   其次，对points和price两个属性进行统计，统计其有效值数量、平均值、标准差、最小值、第一个四分位数、中位数、第二个四分位数以及最大值。结果如下所示。"
   ]
  },
  {
   "cell_type": "code",
   "execution_count": 9,
   "metadata": {},
   "outputs": [
    {
     "data": {
      "text/html": [
       "<div>\n",
       "<style scoped>\n",
       "    .dataframe tbody tr th:only-of-type {\n",
       "        vertical-align: middle;\n",
       "    }\n",
       "\n",
       "    .dataframe tbody tr th {\n",
       "        vertical-align: top;\n",
       "    }\n",
       "\n",
       "    .dataframe thead th {\n",
       "        text-align: right;\n",
       "    }\n",
       "</style>\n",
       "<table border=\"1\" class=\"dataframe\">\n",
       "  <thead>\n",
       "    <tr style=\"text-align: right;\">\n",
       "      <th></th>\n",
       "      <th>points</th>\n",
       "      <th>price</th>\n",
       "    </tr>\n",
       "  </thead>\n",
       "  <tbody>\n",
       "    <tr>\n",
       "      <th>count</th>\n",
       "      <td>150930.000000</td>\n",
       "      <td>137235.000000</td>\n",
       "    </tr>\n",
       "    <tr>\n",
       "      <th>mean</th>\n",
       "      <td>87.888418</td>\n",
       "      <td>33.131482</td>\n",
       "    </tr>\n",
       "    <tr>\n",
       "      <th>std</th>\n",
       "      <td>3.222392</td>\n",
       "      <td>36.322536</td>\n",
       "    </tr>\n",
       "    <tr>\n",
       "      <th>min</th>\n",
       "      <td>80.000000</td>\n",
       "      <td>4.000000</td>\n",
       "    </tr>\n",
       "    <tr>\n",
       "      <th>25%</th>\n",
       "      <td>86.000000</td>\n",
       "      <td>16.000000</td>\n",
       "    </tr>\n",
       "    <tr>\n",
       "      <th>50%</th>\n",
       "      <td>88.000000</td>\n",
       "      <td>24.000000</td>\n",
       "    </tr>\n",
       "    <tr>\n",
       "      <th>75%</th>\n",
       "      <td>90.000000</td>\n",
       "      <td>40.000000</td>\n",
       "    </tr>\n",
       "    <tr>\n",
       "      <th>max</th>\n",
       "      <td>100.000000</td>\n",
       "      <td>2300.000000</td>\n",
       "    </tr>\n",
       "  </tbody>\n",
       "</table>\n",
       "</div>"
      ],
      "text/plain": [
       "              points          price\n",
       "count  150930.000000  137235.000000\n",
       "mean       87.888418      33.131482\n",
       "std         3.222392      36.322536\n",
       "min        80.000000       4.000000\n",
       "25%        86.000000      16.000000\n",
       "50%        88.000000      24.000000\n",
       "75%        90.000000      40.000000\n",
       "max       100.000000    2300.000000"
      ]
     },
     "execution_count": 9,
     "metadata": {},
     "output_type": "execute_result"
    }
   ],
   "source": [
    "wine.describe()"
   ]
  },
  {
   "cell_type": "markdown",
   "metadata": {},
   "source": [
    "### 数据可视化"
   ]
  },
  {
   "cell_type": "markdown",
   "metadata": {},
   "source": [
    "**直方图与Q-Q图——数据分布**"
   ]
  },
  {
   "cell_type": "markdown",
   "metadata": {},
   "source": [
    "   定义函数Distribution(column_name)，对数值属性值的出现次数进行直方图的绘制，并将其进行标准化为均值为0，方差为1的分布，将标准正态分布作为参考一起绘制Q-Q图，用于观测数据的分布情况。"
   ]
  },
  {
   "cell_type": "code",
   "execution_count": 10,
   "metadata": {},
   "outputs": [],
   "source": [
    "def Distribution(column_name):\n",
    "    column = wine[column_name].dropna()\n",
    "    plt.hist(column,40)\n",
    "    plt.title(column_name)\n",
    "    plt.show()\n",
    "    \n",
    "    column = (column - column.mean()) / column.std()\n",
    "    fig = sm.qqplot(column,line = '45')\n",
    "    plt.title('Q-Q plot')\n",
    "    plt.show()"
   ]
  },
  {
   "cell_type": "markdown",
   "metadata": {},
   "source": [
    "   数值属性points的直方图和Q-Q图结果如下。"
   ]
  },
  {
   "cell_type": "code",
   "execution_count": 11,
   "metadata": {},
   "outputs": [
    {
     "data": {
      "image/png": "[encoded data removed]",
      "text/plain": [
       "<Figure size 432x288 with 1 Axes>"
      ]
     },
     "metadata": {
      "needs_background": "light"
     },
     "output_type": "display_data"
    },
    {
     "data": {
      "image/png": "[encoded data removed]",
      "text/plain": [
       "<Figure size 432x288 with 1 Axes>"
      ]
     },
     "metadata": {
      "needs_background": "light"
     },
     "output_type": "display_data"
    }
   ],
   "source": [
    "Distribution('points')"
   ]
  },
  {
   "cell_type": "markdown",
   "metadata": {},
   "source": [
    "   从直方图以及Q-Q图可观察到，属性points的数据模态为单峰，分布近似满足正态分布。"
   ]
  },
  {
   "cell_type": "markdown",
   "metadata": {},
   "source": [
    "   数值属性price的直方图和Q-Q图结果如下。"
   ]
  },
  {
   "cell_type": "code",
   "execution_count": 12,
   "metadata": {},
   "outputs": [
    {
     "data": {
      "image/png": "[encoded data removed]",
      "text/plain": [
       "<Figure size 432x288 with 1 Axes>"
      ]
     },
     "metadata": {
      "needs_background": "light"
     },
     "output_type": "display_data"
    },
    {
     "data": {
      "image/png": "[encoded data removed]",
      "text/plain": [
       "<Figure size 432x288 with 1 Axes>"
      ]
     },
     "metadata": {
      "needs_background": "light"
     },
     "output_type": "display_data"
    }
   ],
   "source": [
    "Distribution('price')"
   ]
  },
  {
   "cell_type": "markdown",
   "metadata": {},
   "source": [
    "   从直方图以及Q-Q图可观察到，属性price的数据分布不满足正态分布。"
   ]
  },
  {
   "cell_type": "markdown",
   "metadata": {},
   "source": [
    "**盒图——离群点**"
   ]
  },
  {
   "cell_type": "markdown",
   "metadata": {},
   "source": [
    "   定义函数Boxplot(column_name)，为数值属性进行盒图的绘制，用于观测是否存在离群点。"
   ]
  },
  {
   "cell_type": "code",
   "execution_count": 13,
   "metadata": {},
   "outputs": [],
   "source": [
    "def Boxplot(column_name):\n",
    "    column = wine[column_name].dropna()\n",
    "    column.plot.box(title = column_name)\n",
    "    plt.grid(linestyle=\"--\",alpha = 0.3)\n",
    "    plt.show()"
   ]
  },
  {
   "cell_type": "markdown",
   "metadata": {},
   "source": [
    "   数值属性points的盒图结果如下。"
   ]
  },
  {
   "cell_type": "code",
   "execution_count": 14,
   "metadata": {},
   "outputs": [
    {
     "data": {
      "image/png": "[encoded data removed]",
      "text/plain": [
       "<Figure size 432x288 with 1 Axes>"
      ]
     },
     "metadata": {
      "needs_background": "light"
     },
     "output_type": "display_data"
    }
   ],
   "source": [
    "Boxplot('points')"
   ]
  },
  {
   "cell_type": "markdown",
   "metadata": {},
   "source": [
    "   从盒图可观察到，属性points的数据存在4个离群点。"
   ]
  },
  {
   "cell_type": "markdown",
   "metadata": {},
   "source": [
    "   数值属性price的盒图结果如下。"
   ]
  },
  {
   "cell_type": "code",
   "execution_count": 15,
   "metadata": {},
   "outputs": [
    {
     "data": {
      "image/png": "[encoded data removed]",
      "text/plain": [
       "<Figure size 432x288 with 1 Axes>"
      ]
     },
     "metadata": {
      "needs_background": "light"
     },
     "output_type": "display_data"
    }
   ],
   "source": [
    "Boxplot('price')"
   ]
  },
  {
   "cell_type": "markdown",
   "metadata": {},
   "source": [
    "   从盒图可观察到，属性price的数据值多数较小，但也存在着较少的大数值。大数值为离群点。"
   ]
  },
  {
   "cell_type": "markdown",
   "metadata": {},
   "source": [
    "## 数据缺失的处理"
   ]
  },
  {
   "cell_type": "markdown",
   "metadata": {},
   "source": [
    "   对于数据缺失的处理，首先统计每一个属性的缺失值数量。"
   ]
  },
  {
   "cell_type": "code",
   "execution_count": 16,
   "metadata": {},
   "outputs": [
    {
     "data": {
      "text/plain": [
       "country            5\n",
       "description        0\n",
       "designation    45735\n",
       "points             0\n",
       "price          13695\n",
       "province           5\n",
       "region_1       25060\n",
       "region_2       89977\n",
       "variety            0\n",
       "winery             0\n",
       "dtype: int64"
      ]
     },
     "execution_count": 16,
     "metadata": {},
     "output_type": "execute_result"
    }
   ],
   "source": [
    "wine.isna().sum()"
   ]
  },
  {
   "cell_type": "markdown",
   "metadata": {},
   "source": [
    "   从结果中，我们可以观察到，其中designation和region信息缺失值较多。"
   ]
  },
  {
   "cell_type": "markdown",
   "metadata": {},
   "source": [
    "   对于designation信息的缺失，推测可能是由于某些葡萄园信息不明确，产生了缺失现象。"
   ]
  },
  {
   "cell_type": "markdown",
   "metadata": {},
   "source": [
    "   对于region，从数据集说明中可以得知是葡萄种植地信息，往往因为没有更具体的区域信息，从而导致region_2是空白的，这一点在说明中已经明确，因此此处对region信息缺失的原因不做研究。"
   ]
  },
  {
   "cell_type": "markdown",
   "metadata": {},
   "source": [
    "   price信息也有13695个缺失值，可能是某种遗漏问题导致的，也有可能是信息的不完备导致的。"
   ]
  },
  {
   "cell_type": "markdown",
   "metadata": {},
   "source": [
    "   country和province信息缺失较少，因此推测是由于遗漏问题所导致的。"
   ]
  },
  {
   "cell_type": "markdown",
   "metadata": {},
   "source": [
    "   首先定义函数Show_Nominal(column,column_name)和Show_Numerical(column,column_name)分别用于展示标称属性和数值属性的数据信息。"
   ]
  },
  {
   "cell_type": "code",
   "execution_count": 17,
   "metadata": {},
   "outputs": [],
   "source": [
    "def Show_Nominal(column,column_name):\n",
    "    column = column.value_counts()\n",
    "    column_df = column.to_frame()\n",
    "    column_df['frequency'] = column.apply(lambda x:x / len(wine.index))\n",
    "    print(column_df.iloc[:10])\n",
    "    print('......')\n",
    "    \n",
    "    plt.bar(np.arange(10),column.iloc[:10])\n",
    "    plt.title(column_name)\n",
    "    plt.show()"
   ]
  },
  {
   "cell_type": "code",
   "execution_count": 18,
   "metadata": {},
   "outputs": [],
   "source": [
    "def Show_Numerical(column,column_name):\n",
    "    print(wine[column_name].describe())\n",
    "    \n",
    "    column = wine[column_name]\n",
    "    plt.hist(column,40)\n",
    "    plt.title(column_name)\n",
    "    plt.show()\n",
    "    column = (column - column.mean()) / column.std()\n",
    "    fig = sm.qqplot(column,line = '45')\n",
    "    plt.title('Q-Q plot')\n",
    "    plt.show()"
   ]
  },
  {
   "cell_type": "markdown",
   "metadata": {},
   "source": [
    "### 删除缺失值"
   ]
  },
  {
   "cell_type": "markdown",
   "metadata": {},
   "source": [
    "   此处，以标称属性designation为例，分别展示删除前和删除后的结果。"
   ]
  },
  {
   "cell_type": "code",
   "execution_count": 19,
   "metadata": {},
   "outputs": [
    {
     "name": "stdout",
     "output_type": "stream",
     "text": [
      "                designation  frequency\n",
      "Reserve                2752   0.018234\n",
      "Reserva                1810   0.011992\n",
      "Estate                 1571   0.010409\n",
      "Barrel sample          1326   0.008786\n",
      "Riserva                 754   0.004996\n",
      "Barrel Sample           639   0.004234\n",
      "Brut                    624   0.004134\n",
      "Crianza                 503   0.003333\n",
      "Estate Grown            449   0.002975\n",
      "Estate Bottled          396   0.002624\n",
      "......\n"
     ]
    },
    {
     "data": {
      "image/png": "[encoded data removed]",
      "text/plain": [
       "<Figure size 432x288 with 1 Axes>"
      ]
     },
     "metadata": {
      "needs_background": "light"
     },
     "output_type": "display_data"
    },
    {
     "name": "stdout",
     "output_type": "stream",
     "text": [
      "                designation  frequency\n",
      "Reserve                2752   0.018234\n",
      "Reserva                1810   0.011992\n",
      "Estate                 1571   0.010409\n",
      "Barrel sample          1326   0.008786\n",
      "Riserva                 754   0.004996\n",
      "Barrel Sample           639   0.004234\n",
      "Brut                    624   0.004134\n",
      "Crianza                 503   0.003333\n",
      "Estate Grown            449   0.002975\n",
      "Estate Bottled          396   0.002624\n",
      "......\n"
     ]
    },
    {
     "data": {
      "image/png": "[encoded data removed]",
      "text/plain": [
       "<Figure size 432x288 with 1 Axes>"
      ]
     },
     "metadata": {
      "needs_background": "light"
     },
     "output_type": "display_data"
    }
   ],
   "source": [
    "designation = wine['designation']\n",
    "Show_Nominal(designation,'designation')\n",
    "delete = designation.dropna()\n",
    "Show_Nominal(delete,'designation')"
   ]
  },
  {
   "cell_type": "markdown",
   "metadata": {},
   "source": [
    "   从结果中可以看出，对缺失值的删除对整体数据集未产生影响，因此对于designation属性的数据缺失而言，删除处理是可行的。"
   ]
  },
  {
   "cell_type": "code",
   "execution_count": 20,
   "metadata": {},
   "outputs": [
    {
     "name": "stdout",
     "output_type": "stream",
     "text": [
      "150930 105195\n"
     ]
    }
   ],
   "source": [
    "designation = wine['designation']\n",
    "delete = designation.dropna()\n",
    "print (wine.shape[0],delete.shape[0])"
   ]
  },
  {
   "cell_type": "markdown",
   "metadata": {},
   "source": [
    "再来对比一下删除前后的数据数量，可明显观察到删除后的数量要小于原数据集中版本2的数据数量，因此认为数据集作者对于版本1缺失数据的处理并非仅仅对其进行删除。"
   ]
  },
  {
   "cell_type": "markdown",
   "metadata": {},
   "source": [
    "### 用最高频率值来填补缺失值"
   ]
  },
  {
   "cell_type": "markdown",
   "metadata": {},
   "source": [
    "   此处，以数值属性price为例，分别展示用最高频率值填补前和填补后的结果。"
   ]
  },
  {
   "cell_type": "code",
   "execution_count": 21,
   "metadata": {},
   "outputs": [
    {
     "name": "stdout",
     "output_type": "stream",
     "text": [
      "count    137235.000000\n",
      "mean         33.131482\n",
      "std          36.322536\n",
      "min           4.000000\n",
      "25%          16.000000\n",
      "50%          24.000000\n",
      "75%          40.000000\n",
      "max        2300.000000\n",
      "Name: price, dtype: float64\n"
     ]
    },
    {
     "data": {
      "image/png": "[encoded data removed]",
      "text/plain": [
       "<Figure size 432x288 with 1 Axes>"
      ]
     },
     "metadata": {
      "needs_background": "light"
     },
     "output_type": "display_data"
    },
    {
     "data": {
      "image/png": "[encoded data removed]",
      "text/plain": [
       "<Figure size 432x288 with 1 Axes>"
      ]
     },
     "metadata": {
      "needs_background": "light"
     },
     "output_type": "display_data"
    },
    {
     "name": "stdout",
     "output_type": "stream",
     "text": [
      "count    137235.000000\n",
      "mean         33.131482\n",
      "std          36.322536\n",
      "min           4.000000\n",
      "25%          16.000000\n",
      "50%          24.000000\n",
      "75%          40.000000\n",
      "max        2300.000000\n",
      "Name: price, dtype: float64\n"
     ]
    },
    {
     "data": {
      "image/png": "[encoded data removed]",
      "text/plain": [
       "<Figure size 432x288 with 1 Axes>"
      ]
     },
     "metadata": {
      "needs_background": "light"
     },
     "output_type": "display_data"
    },
    {
     "data": {
      "image/png": "[encoded data removed]",
      "text/plain": [
       "<Figure size 432x288 with 1 Axes>"
      ]
     },
     "metadata": {
      "needs_background": "light"
     },
     "output_type": "display_data"
    }
   ],
   "source": [
    "price = wine['price']\n",
    "Show_Numerical(price,'price')\n",
    "add = price.fillna(price.mode()[0])\n",
    "Show_Numerical(add,'price')"
   ]
  },
  {
   "cell_type": "markdown",
   "metadata": {},
   "source": [
    "   从结果中可以看出，用最高频率值填补缺失值对整体数据集未产生影响，因此对于price属性的数据缺失而言，用最高频率值的填补处理是可行的。"
   ]
  },
  {
   "cell_type": "markdown",
   "metadata": {},
   "source": [
    "### 通过属性的相关关系来填补缺失值"
   ]
  },
  {
   "cell_type": "markdown",
   "metadata": {},
   "source": [
    "这里，以标称属性country和province为例。经之前的分析，country和province存在着5个缺失值，进一步分析发现二者是同时存在着缺失的。通过属性分析，发现designation和二者有着属性相关关系，可通过designation数据值推断出country和province的数据值。"
   ]
  },
  {
   "cell_type": "code",
   "execution_count": 22,
   "metadata": {},
   "outputs": [
    {
     "data": {
      "text/html": [
       "<div>\n",
       "<style scoped>\n",
       "    .dataframe tbody tr th:only-of-type {\n",
       "        vertical-align: middle;\n",
       "    }\n",
       "\n",
       "    .dataframe tbody tr th {\n",
       "        vertical-align: top;\n",
       "    }\n",
       "\n",
       "    .dataframe thead th {\n",
       "        text-align: right;\n",
       "    }\n",
       "</style>\n",
       "<table border=\"1\" class=\"dataframe\">\n",
       "  <thead>\n",
       "    <tr style=\"text-align: right;\">\n",
       "      <th></th>\n",
       "      <th>country</th>\n",
       "      <th>description</th>\n",
       "      <th>designation</th>\n",
       "      <th>points</th>\n",
       "      <th>price</th>\n",
       "      <th>province</th>\n",
       "      <th>region_1</th>\n",
       "      <th>region_2</th>\n",
       "      <th>variety</th>\n",
       "      <th>winery</th>\n",
       "    </tr>\n",
       "  </thead>\n",
       "  <tbody>\n",
       "    <tr>\n",
       "      <th>1133</th>\n",
       "      <td>null</td>\n",
       "      <td>Delicate white flowers and a spin of lemon pee...</td>\n",
       "      <td>Askitikos</td>\n",
       "      <td>90</td>\n",
       "      <td>17.0</td>\n",
       "      <td>null</td>\n",
       "      <td>NaN</td>\n",
       "      <td>NaN</td>\n",
       "      <td>Assyrtiko</td>\n",
       "      <td>Tsililis</td>\n",
       "    </tr>\n",
       "    <tr>\n",
       "      <th>1440</th>\n",
       "      <td>null</td>\n",
       "      <td>A blend of 60% Syrah, 30% Cabernet Sauvignon a...</td>\n",
       "      <td>Shah</td>\n",
       "      <td>90</td>\n",
       "      <td>30.0</td>\n",
       "      <td>null</td>\n",
       "      <td>NaN</td>\n",
       "      <td>NaN</td>\n",
       "      <td>Red Blend</td>\n",
       "      <td>Büyülübağ</td>\n",
       "    </tr>\n",
       "    <tr>\n",
       "      <th>68226</th>\n",
       "      <td>null</td>\n",
       "      <td>From first sniff to last, the nose never makes...</td>\n",
       "      <td>Piedra Feliz</td>\n",
       "      <td>81</td>\n",
       "      <td>15.0</td>\n",
       "      <td>null</td>\n",
       "      <td>NaN</td>\n",
       "      <td>NaN</td>\n",
       "      <td>Pinot Noir</td>\n",
       "      <td>Chilcas</td>\n",
       "    </tr>\n",
       "    <tr>\n",
       "      <th>113016</th>\n",
       "      <td>null</td>\n",
       "      <td>From first sniff to last, the nose never makes...</td>\n",
       "      <td>Piedra Feliz</td>\n",
       "      <td>81</td>\n",
       "      <td>15.0</td>\n",
       "      <td>null</td>\n",
       "      <td>NaN</td>\n",
       "      <td>NaN</td>\n",
       "      <td>Pinot Noir</td>\n",
       "      <td>Chilcas</td>\n",
       "    </tr>\n",
       "    <tr>\n",
       "      <th>135696</th>\n",
       "      <td>null</td>\n",
       "      <td>From first sniff to last, the nose never makes...</td>\n",
       "      <td>Piedra Feliz</td>\n",
       "      <td>81</td>\n",
       "      <td>15.0</td>\n",
       "      <td>null</td>\n",
       "      <td>NaN</td>\n",
       "      <td>NaN</td>\n",
       "      <td>Pinot Noir</td>\n",
       "      <td>Chilcas</td>\n",
       "    </tr>\n",
       "  </tbody>\n",
       "</table>\n",
       "</div>"
      ],
      "text/plain": [
       "       country                                        description  \\\n",
       "1133      null  Delicate white flowers and a spin of lemon pee...   \n",
       "1440      null  A blend of 60% Syrah, 30% Cabernet Sauvignon a...   \n",
       "68226     null  From first sniff to last, the nose never makes...   \n",
       "113016    null  From first sniff to last, the nose never makes...   \n",
       "135696    null  From first sniff to last, the nose never makes...   \n",
       "\n",
       "         designation  points  price province region_1 region_2     variety  \\\n",
       "1133       Askitikos      90   17.0     null      NaN      NaN   Assyrtiko   \n",
       "1440            Shah      90   30.0     null      NaN      NaN   Red Blend   \n",
       "68226   Piedra Feliz      81   15.0     null      NaN      NaN  Pinot Noir   \n",
       "113016  Piedra Feliz      81   15.0     null      NaN      NaN  Pinot Noir   \n",
       "135696  Piedra Feliz      81   15.0     null      NaN      NaN  Pinot Noir   \n",
       "\n",
       "           winery  \n",
       "1133     Tsililis  \n",
       "1440    Büyülübağ  \n",
       "68226     Chilcas  \n",
       "113016    Chilcas  \n",
       "135696    Chilcas  "
      ]
     },
     "execution_count": 22,
     "metadata": {},
     "output_type": "execute_result"
    }
   ],
   "source": [
    "wine['country']=wine['country'].fillna('null') \n",
    "wine['province']=wine['province'].fillna('null') \n",
    "wine[wine['country'].isin(['null'])]"
   ]
  },
  {
   "cell_type": "code",
   "execution_count": 23,
   "metadata": {},
   "outputs": [
    {
     "data": {
      "text/plain": [
       "country                                                   Greece\n",
       "description    Delicate white flowers and a spin of lemon pee...\n",
       "designation                                            Askitikos\n",
       "points                                                        90\n",
       "price                                                         17\n",
       "province                                                  Greece\n",
       "region_1                                                     NaN\n",
       "region_2                                                     NaN\n",
       "variety                                                Assyrtiko\n",
       "winery                                                  Tsililis\n",
       "Name: 1133, dtype: object"
      ]
     },
     "execution_count": 23,
     "metadata": {},
     "output_type": "execute_result"
    }
   ],
   "source": [
    "wine.loc[1133,'country']='Greece'\n",
    "wine.loc[1133,'province']='Greece'\n",
    "wine.loc[1440,'country']='US'\n",
    "wine.loc[1440,'province']='Washington'\n",
    "wine.loc[68226,'country']='Chile'\n",
    "wine.loc[68226,'province']='Maule Valley'\n",
    "wine.loc[113016,'country']='Chile'\n",
    "wine.loc[113016,'province']='Maule Valley'\n",
    "wine.loc[135696,'country']='Chile'\n",
    "wine.loc[135696,'province']='Maule Valley'\n",
    "\n",
    "wine.iloc[1133]"
   ]
  },
  {
   "cell_type": "code",
   "execution_count": 24,
   "metadata": {},
   "outputs": [
    {
     "data": {
      "text/plain": [
       "country                                                       US\n",
       "description    A blend of 60% Syrah, 30% Cabernet Sauvignon a...\n",
       "designation                                                 Shah\n",
       "points                                                        90\n",
       "price                                                         30\n",
       "province                                              Washington\n",
       "region_1                                                     NaN\n",
       "region_2                                                     NaN\n",
       "variety                                                Red Blend\n",
       "winery                                                 Büyülübağ\n",
       "Name: 1440, dtype: object"
      ]
     },
     "execution_count": 24,
     "metadata": {},
     "output_type": "execute_result"
    }
   ],
   "source": [
    "wine.iloc[1440]"
   ]
  },
  {
   "cell_type": "code",
   "execution_count": 25,
   "metadata": {},
   "outputs": [
    {
     "data": {
      "text/plain": [
       "country                                                    Chile\n",
       "description    From first sniff to last, the nose never makes...\n",
       "designation                                         Piedra Feliz\n",
       "points                                                        81\n",
       "price                                                         15\n",
       "province                                            Maule Valley\n",
       "region_1                                                     NaN\n",
       "region_2                                                     NaN\n",
       "variety                                               Pinot Noir\n",
       "winery                                                   Chilcas\n",
       "Name: 68226, dtype: object"
      ]
     },
     "execution_count": 25,
     "metadata": {},
     "output_type": "execute_result"
    }
   ],
   "source": [
    "wine.iloc[68226]"
   ]
  },
  {
   "cell_type": "code",
   "execution_count": 26,
   "metadata": {},
   "outputs": [
    {
     "data": {
      "text/plain": [
       "country                                                    Chile\n",
       "description    From first sniff to last, the nose never makes...\n",
       "designation                                         Piedra Feliz\n",
       "points                                                        81\n",
       "price                                                         15\n",
       "province                                            Maule Valley\n",
       "region_1                                                     NaN\n",
       "region_2                                                     NaN\n",
       "variety                                               Pinot Noir\n",
       "winery                                                   Chilcas\n",
       "Name: 113016, dtype: object"
      ]
     },
     "execution_count": 26,
     "metadata": {},
     "output_type": "execute_result"
    }
   ],
   "source": [
    "wine.iloc[113016]"
   ]
  },
  {
   "cell_type": "code",
   "execution_count": 27,
   "metadata": {},
   "outputs": [
    {
     "data": {
      "text/plain": [
       "country                                                    Chile\n",
       "description    From first sniff to last, the nose never makes...\n",
       "designation                                         Piedra Feliz\n",
       "points                                                        81\n",
       "price                                                         15\n",
       "province                                            Maule Valley\n",
       "region_1                                                     NaN\n",
       "region_2                                                     NaN\n",
       "variety                                               Pinot Noir\n",
       "winery                                                   Chilcas\n",
       "Name: 135696, dtype: object"
      ]
     },
     "execution_count": 27,
     "metadata": {},
     "output_type": "execute_result"
    }
   ],
   "source": [
    "wine.iloc[135696]"
   ]
  },
  {
   "cell_type": "markdown",
   "metadata": {},
   "source": [
    "从上面的结果可以得知，已经将这五条记录根据属性关系做了填补工作，此时country和province属性的数据值缺失值为0。"
   ]
  },
  {
   "cell_type": "code",
   "execution_count": 28,
   "metadata": {},
   "outputs": [
    {
     "name": "stdout",
     "output_type": "stream",
     "text": [
      "country: 0\n",
      "province: 0\n"
     ]
    }
   ],
   "source": [
    "print('country:',wine['country'].isnull().sum())\n",
    "print('province:',wine['province'].isnull().sum())"
   ]
  },
  {
   "cell_type": "markdown",
   "metadata": {},
   "source": [
    "接着，进行对比分析，填补后的属性频率是否发生变化。"
   ]
  },
  {
   "cell_type": "code",
   "execution_count": 29,
   "metadata": {},
   "outputs": [
    {
     "name": "stdout",
     "output_type": "stream",
     "text": [
      "             country  frequency\n",
      "US             62398   0.413423\n",
      "Italy          23478   0.155556\n",
      "France         21098   0.139787\n",
      "Spain           8268   0.054780\n",
      "Chile           5819   0.038554\n",
      "Argentina       5631   0.037309\n",
      "Portugal        5322   0.035261\n",
      "Australia       4957   0.032843\n",
      "New Zealand     3320   0.021997\n",
      "Austria         3057   0.020254\n",
      "......\n"
     ]
    },
    {
     "data": {
      "image/png": "[encoded data removed]",
      "text/plain": [
       "<Figure size 432x288 with 1 Axes>"
      ]
     },
     "metadata": {
      "needs_background": "light"
     },
     "output_type": "display_data"
    }
   ],
   "source": [
    "country = wine['country']\n",
    "Show_Nominal(country,'country')"
   ]
  },
  {
   "cell_type": "markdown",
   "metadata": {},
   "source": [
    "与上文中处理之前标称属性country的统计结果相比较，未有明显变化。因此，通过属性的相关关系来进行填补操作是可行的。"
   ]
  },
  {
   "cell_type": "markdown",
   "metadata": {},
   "source": [
    "### 通过数据对象之间的相似性来填补缺失值"
   ]
  },
  {
   "cell_type": "markdown",
   "metadata": {},
   "source": [
    "此处使用随机森林填补数值属性price的缺失值。根据评分points信息实现对price的预测，从而进行缺失值的填补。"
   ]
  },
  {
   "cell_type": "code",
   "execution_count": 30,
   "metadata": {},
   "outputs": [],
   "source": [
    "forest=pd.DataFrame(pd.read_csv('winemag-data_first150k.csv'))\n",
    "known_price = forest[forest['price'].notnull()]\n",
    "unknown_price = forest[forest['price'].isnull()]\n",
    "x = known_price[['points']]\n",
    "y = known_price[['price']]\n",
    "t_x = unknown_price[['points']]\n",
    "fc=RandomForestClassifier()\n",
    "fc.fit(x,y)\n",
    "pr=fc.predict(t_x)\n",
    "forest.loc[forest.price.isnull(),'price'] = pr"
   ]
  },
  {
   "cell_type": "code",
   "execution_count": 31,
   "metadata": {},
   "outputs": [
    {
     "name": "stdout",
     "output_type": "stream",
     "text": [
      "count    137235.000000\n",
      "mean         33.131482\n",
      "std          36.322536\n",
      "min           4.000000\n",
      "25%          16.000000\n",
      "50%          24.000000\n",
      "75%          40.000000\n",
      "max        2300.000000\n",
      "Name: price, dtype: float64\n"
     ]
    },
    {
     "data": {
      "image/png": "[encoded data removed]",
      "text/plain": [
       "<Figure size 432x288 with 1 Axes>"
      ]
     },
     "metadata": {
      "needs_background": "light"
     },
     "output_type": "display_data"
    },
    {
     "data": {
      "image/png": "[encoded data removed]",
      "text/plain": [
       "<Figure size 432x288 with 1 Axes>"
      ]
     },
     "metadata": {
      "needs_background": "light"
     },
     "output_type": "display_data"
    }
   ],
   "source": [
    "price = wine['price']\n",
    "Show_Numerical(price,'price')"
   ]
  },
  {
   "cell_type": "markdown",
   "metadata": {},
   "source": [
    "对数值属性price进行结果统计，与上文结果进行对比，未发现明显区别，因此认为通过相似性来进行填补是可行的。"
   ]
  },
  {
   "cell_type": "markdown",
   "metadata": {},
   "source": [
    "# Chicago Building Violations 数据集"
   ]
  },
  {
   "cell_type": "markdown",
   "metadata": {},
   "source": [
    "## 数据准备"
   ]
  },
  {
   "cell_type": "markdown",
   "metadata": {},
   "source": [
    "数据集主页：https://www.kaggle.com/chicago/chicago-building-violations"
   ]
  },
  {
   "cell_type": "markdown",
   "metadata": {},
   "source": [
    "此数据集中包含1个csv文件,对数据进行导入。"
   ]
  },
  {
   "cell_type": "code",
   "execution_count": 32,
   "metadata": {},
   "outputs": [
    {
     "name": "stdout",
     "output_type": "stream",
     "text": [
      "1677788\n"
     ]
    }
   ],
   "source": [
    "building = pd.read_csv(\"building-violations.csv\")\n",
    "print(building.shape[0])"
   ]
  },
  {
   "cell_type": "markdown",
   "metadata": {},
   "source": [
    "通过数据的输出，可表明csv文件数据导入成功，共包含1677788个数据项。"
   ]
  },
  {
   "cell_type": "markdown",
   "metadata": {},
   "source": [
    "## 数据可视化和摘要"
   ]
  },
  {
   "cell_type": "markdown",
   "metadata": {},
   "source": [
    "### 数据摘要"
   ]
  },
  {
   "cell_type": "markdown",
   "metadata": {},
   "source": [
    "首先，先对数据进行信息统计。"
   ]
  },
  {
   "cell_type": "code",
   "execution_count": 33,
   "metadata": {},
   "outputs": [
    {
     "name": "stdout",
     "output_type": "stream",
     "text": [
      "32 colunms\n",
      "1677788 rows\n",
      "\n",
      "object     19\n",
      "float64     9\n",
      "int64       4\n",
      "dtype: int64\n"
     ]
    }
   ],
   "source": [
    "print('%d colunms' % len(building.columns))\n",
    "print('%d rows' % len(building.index))\n",
    "print()\n",
    "print(building.dtypes.value_counts())"
   ]
  },
  {
   "cell_type": "markdown",
   "metadata": {},
   "source": [
    "   数据的前5行如下所示。"
   ]
  },
  {
   "cell_type": "code",
   "execution_count": 34,
   "metadata": {},
   "outputs": [
    {
     "data": {
      "text/html": [
       "<div>\n",
       "<style scoped>\n",
       "    .dataframe tbody tr th:only-of-type {\n",
       "        vertical-align: middle;\n",
       "    }\n",
       "\n",
       "    .dataframe tbody tr th {\n",
       "        vertical-align: top;\n",
       "    }\n",
       "\n",
       "    .dataframe thead th {\n",
       "        text-align: right;\n",
       "    }\n",
       "</style>\n",
       "<table border=\"1\" class=\"dataframe\">\n",
       "  <thead>\n",
       "    <tr style=\"text-align: right;\">\n",
       "      <th></th>\n",
       "      <th>ID</th>\n",
       "      <th>VIOLATION LAST MODIFIED DATE</th>\n",
       "      <th>VIOLATION DATE</th>\n",
       "      <th>VIOLATION CODE</th>\n",
       "      <th>VIOLATION STATUS</th>\n",
       "      <th>VIOLATION STATUS DATE</th>\n",
       "      <th>VIOLATION DESCRIPTION</th>\n",
       "      <th>VIOLATION LOCATION</th>\n",
       "      <th>VIOLATION INSPECTOR COMMENTS</th>\n",
       "      <th>VIOLATION ORDINANCE</th>\n",
       "      <th>...</th>\n",
       "      <th>SSA</th>\n",
       "      <th>LATITUDE</th>\n",
       "      <th>LONGITUDE</th>\n",
       "      <th>LOCATION</th>\n",
       "      <th>Community Areas</th>\n",
       "      <th>Zip Codes</th>\n",
       "      <th>Boundaries - ZIP Codes</th>\n",
       "      <th>Census Tracts</th>\n",
       "      <th>Wards</th>\n",
       "      <th>Historical Wards 2003-2015</th>\n",
       "    </tr>\n",
       "  </thead>\n",
       "  <tbody>\n",
       "    <tr>\n",
       "      <th>0</th>\n",
       "      <td>6392482</td>\n",
       "      <td>2019-12-04T12:40:09.000</td>\n",
       "      <td>2019-12-04T00:00:00.000</td>\n",
       "      <td>CN196019</td>\n",
       "      <td>OPEN</td>\n",
       "      <td>NaN</td>\n",
       "      <td>NO POSTED ADDRESS</td>\n",
       "      <td>OTHER   :    :OTHER</td>\n",
       "      <td>BUILDING ADRESSES - INCOMPLETE WITH MISSING #'S.</td>\n",
       "      <td>Post address of building in conspicuous place ...</td>\n",
       "      <td>...</td>\n",
       "      <td>NaN</td>\n",
       "      <td>41.749169</td>\n",
       "      <td>-87.602551</td>\n",
       "      <td>{'latitude': '41.749169067345306', 'human_addr...</td>\n",
       "      <td>40.0</td>\n",
       "      <td>21546.0</td>\n",
       "      <td>61.0</td>\n",
       "      <td>247.0</td>\n",
       "      <td>35.0</td>\n",
       "      <td>9.0</td>\n",
       "    </tr>\n",
       "    <tr>\n",
       "      <th>1</th>\n",
       "      <td>6392480</td>\n",
       "      <td>2019-12-04T12:40:09.000</td>\n",
       "      <td>2019-12-04T00:00:00.000</td>\n",
       "      <td>CN061014</td>\n",
       "      <td>OPEN</td>\n",
       "      <td>NaN</td>\n",
       "      <td>REPAIR EXTERIOR WALL</td>\n",
       "      <td>OTHER   :    :OTHER</td>\n",
       "      <td>WEST AND SOUTH ELEVATIONS / EXTERIOR WALLS - M...</td>\n",
       "      <td>Failed to maintain the exterior walls of a bui...</td>\n",
       "      <td>...</td>\n",
       "      <td>NaN</td>\n",
       "      <td>41.749169</td>\n",
       "      <td>-87.602551</td>\n",
       "      <td>{'latitude': '41.749169067345306', 'human_addr...</td>\n",
       "      <td>40.0</td>\n",
       "      <td>21546.0</td>\n",
       "      <td>61.0</td>\n",
       "      <td>247.0</td>\n",
       "      <td>35.0</td>\n",
       "      <td>9.0</td>\n",
       "    </tr>\n",
       "    <tr>\n",
       "      <th>2</th>\n",
       "      <td>6392335</td>\n",
       "      <td>2019-12-04T14:00:12.000</td>\n",
       "      <td>2019-12-04T00:00:00.000</td>\n",
       "      <td>CN138106</td>\n",
       "      <td>OPEN</td>\n",
       "      <td>NaN</td>\n",
       "      <td>STOP/REMOVE NUISANCE</td>\n",
       "      <td>OTHER   :    :OTHER</td>\n",
       "      <td>YARD AREA; ABANDON VEHICLE.</td>\n",
       "      <td>Remove and stop nuisance. (7-28-060)</td>\n",
       "      <td>...</td>\n",
       "      <td>NaN</td>\n",
       "      <td>41.711751</td>\n",
       "      <td>-87.537842</td>\n",
       "      <td>{'latitude': '41.71175105491413', 'human_addre...</td>\n",
       "      <td>49.0</td>\n",
       "      <td>21202.0</td>\n",
       "      <td>25.0</td>\n",
       "      <td>528.0</td>\n",
       "      <td>47.0</td>\n",
       "      <td>47.0</td>\n",
       "    </tr>\n",
       "    <tr>\n",
       "      <th>3</th>\n",
       "      <td>6391883</td>\n",
       "      <td>2019-12-04T08:32:01.000</td>\n",
       "      <td>2019-12-04T00:00:00.000</td>\n",
       "      <td>CN197039</td>\n",
       "      <td>OPEN</td>\n",
       "      <td>NaN</td>\n",
       "      <td>RELOCATE SMOKE DETECTOR</td>\n",
       "      <td>INTERIOR:003 :</td>\n",
       "      <td>HALLWAY - SMOKE DETECTOR - 4FT BELOW CEILING.</td>\n",
       "      <td>Relocate improperly installed smoke detectors....</td>\n",
       "      <td>...</td>\n",
       "      <td>25.0</td>\n",
       "      <td>41.844521</td>\n",
       "      <td>-87.712416</td>\n",
       "      <td>{'latitude': '41.84452110252742', 'human_addre...</td>\n",
       "      <td>32.0</td>\n",
       "      <td>21569.0</td>\n",
       "      <td>57.0</td>\n",
       "      <td>755.0</td>\n",
       "      <td>28.0</td>\n",
       "      <td>14.0</td>\n",
       "    </tr>\n",
       "    <tr>\n",
       "      <th>4</th>\n",
       "      <td>6392369</td>\n",
       "      <td>2019-12-04T14:14:24.000</td>\n",
       "      <td>2019-12-04T00:00:00.000</td>\n",
       "      <td>CN065034</td>\n",
       "      <td>OPEN</td>\n",
       "      <td>NaN</td>\n",
       "      <td>REPAIR WINDOW SILLS</td>\n",
       "      <td>OTHER   :    :OTHER</td>\n",
       "      <td>EAST WINDOW SILLS; OPEN JOINTS.</td>\n",
       "      <td>Failed to maintain window sill in good repair ...</td>\n",
       "      <td>...</td>\n",
       "      <td>NaN</td>\n",
       "      <td>41.753908</td>\n",
       "      <td>-87.562784</td>\n",
       "      <td>{'latitude': '41.75390787131238', 'human_addre...</td>\n",
       "      <td>39.0</td>\n",
       "      <td>22538.0</td>\n",
       "      <td>24.0</td>\n",
       "      <td>246.0</td>\n",
       "      <td>37.0</td>\n",
       "      <td>43.0</td>\n",
       "    </tr>\n",
       "  </tbody>\n",
       "</table>\n",
       "<p>5 rows × 32 columns</p>\n",
       "</div>"
      ],
      "text/plain": [
       "        ID VIOLATION LAST MODIFIED DATE           VIOLATION DATE  \\\n",
       "0  6392482      2019-12-04T12:40:09.000  2019-12-04T00:00:00.000   \n",
       "1  6392480      2019-12-04T12:40:09.000  2019-12-04T00:00:00.000   \n",
       "2  6392335      2019-12-04T14:00:12.000  2019-12-04T00:00:00.000   \n",
       "3  6391883      2019-12-04T08:32:01.000  2019-12-04T00:00:00.000   \n",
       "4  6392369      2019-12-04T14:14:24.000  2019-12-04T00:00:00.000   \n",
       "\n",
       "  VIOLATION CODE VIOLATION STATUS VIOLATION STATUS DATE  \\\n",
       "0       CN196019             OPEN                   NaN   \n",
       "1       CN061014             OPEN                   NaN   \n",
       "2       CN138106             OPEN                   NaN   \n",
       "3       CN197039             OPEN                   NaN   \n",
       "4       CN065034             OPEN                   NaN   \n",
       "\n",
       "     VIOLATION DESCRIPTION   VIOLATION LOCATION  \\\n",
       "0        NO POSTED ADDRESS  OTHER   :    :OTHER   \n",
       "1     REPAIR EXTERIOR WALL  OTHER   :    :OTHER   \n",
       "2     STOP/REMOVE NUISANCE  OTHER   :    :OTHER   \n",
       "3  RELOCATE SMOKE DETECTOR       INTERIOR:003 :   \n",
       "4      REPAIR WINDOW SILLS  OTHER   :    :OTHER   \n",
       "\n",
       "                        VIOLATION INSPECTOR COMMENTS  \\\n",
       "0   BUILDING ADRESSES - INCOMPLETE WITH MISSING #'S.   \n",
       "1  WEST AND SOUTH ELEVATIONS / EXTERIOR WALLS - M...   \n",
       "2                        YARD AREA; ABANDON VEHICLE.   \n",
       "3      HALLWAY - SMOKE DETECTOR - 4FT BELOW CEILING.   \n",
       "4                    EAST WINDOW SILLS; OPEN JOINTS.   \n",
       "\n",
       "                                 VIOLATION ORDINANCE  ...   SSA   LATITUDE  \\\n",
       "0  Post address of building in conspicuous place ...  ...   NaN  41.749169   \n",
       "1  Failed to maintain the exterior walls of a bui...  ...   NaN  41.749169   \n",
       "2               Remove and stop nuisance. (7-28-060)  ...   NaN  41.711751   \n",
       "3  Relocate improperly installed smoke detectors....  ...  25.0  41.844521   \n",
       "4  Failed to maintain window sill in good repair ...  ...   NaN  41.753908   \n",
       "\n",
       "   LONGITUDE                                           LOCATION  \\\n",
       "0 -87.602551  {'latitude': '41.749169067345306', 'human_addr...   \n",
       "1 -87.602551  {'latitude': '41.749169067345306', 'human_addr...   \n",
       "2 -87.537842  {'latitude': '41.71175105491413', 'human_addre...   \n",
       "3 -87.712416  {'latitude': '41.84452110252742', 'human_addre...   \n",
       "4 -87.562784  {'latitude': '41.75390787131238', 'human_addre...   \n",
       "\n",
       "  Community Areas Zip Codes Boundaries - ZIP Codes  Census Tracts Wards  \\\n",
       "0            40.0   21546.0                   61.0          247.0  35.0   \n",
       "1            40.0   21546.0                   61.0          247.0  35.0   \n",
       "2            49.0   21202.0                   25.0          528.0  47.0   \n",
       "3            32.0   21569.0                   57.0          755.0  28.0   \n",
       "4            39.0   22538.0                   24.0          246.0  37.0   \n",
       "\n",
       "  Historical Wards 2003-2015  \n",
       "0                        9.0  \n",
       "1                        9.0  \n",
       "2                       47.0  \n",
       "3                       14.0  \n",
       "4                       43.0  \n",
       "\n",
       "[5 rows x 32 columns]"
      ]
     },
     "execution_count": 34,
     "metadata": {},
     "output_type": "execute_result"
    }
   ],
   "source": [
    "building.head(5)"
   ]
  },
  {
   "cell_type": "markdown",
   "metadata": {},
   "source": [
    "   因此，可以分析出该数据集中包含13个数值属性，经分析后将LATITUDE和LONGITUDE作为分析对象，其他数值型属性均为编号类型，不具有分析意义。其余19个为标称属性。由于标称属性的数量较多，此处分析以STREET DIRECTION和STREET TYPE为例。"
   ]
  },
  {
   "cell_type": "markdown",
   "metadata": {},
   "source": [
    "**标称属性摘要**"
   ]
  },
  {
   "cell_type": "markdown",
   "metadata": {},
   "source": [
    "   定义统计函数Count_Nominal(column_name,number)，统计标称属性中不同值的出现次数和频率，展示出现频率最高的前10个值。"
   ]
  },
  {
   "cell_type": "code",
   "execution_count": 35,
   "metadata": {},
   "outputs": [],
   "source": [
    "def Count_Nominal(column_name,number):\n",
    "    column = building[column_name].value_counts()\n",
    "    print('Column name:',column_name)\n",
    "    print(\"%d different values\" % len(column))\n",
    "    print()\n",
    "    column_df = column.to_frame()\n",
    "    column_df['frequency'] = column.apply(lambda x:x / len(building.index))\n",
    "    print(column_df.iloc[:number])\n",
    "    print('......')\n",
    "    \n",
    "    plt.bar(np.arange(number),column.iloc[:number])\n",
    "    plt.title(column_name)\n",
    "    plt.show()"
   ]
  },
  {
   "cell_type": "markdown",
   "metadata": {},
   "source": [
    "统计标称属性STREET DIRECTION如下。"
   ]
  },
  {
   "cell_type": "code",
   "execution_count": 36,
   "metadata": {},
   "outputs": [
    {
     "name": "stdout",
     "output_type": "stream",
     "text": [
      "Column name: STREET DIRECTION\n",
      "4 different values\n",
      "\n",
      "   STREET DIRECTION  frequency\n",
      "S            683917   0.407630\n",
      "W            500418   0.298261\n",
      "N            395246   0.235576\n",
      "E             98207   0.058534\n",
      "......\n"
     ]
    },
    {
     "data": {
      "image/png": "[encoded data removed]",
      "text/plain": [
       "<Figure size 432x288 with 1 Axes>"
      ]
     },
     "metadata": {
      "needs_background": "light"
     },
     "output_type": "display_data"
    }
   ],
   "source": [
    "Count_Nominal('STREET DIRECTION',4)"
   ]
  },
  {
   "cell_type": "markdown",
   "metadata": {},
   "source": [
    "统计标称属性STREET TYPE如下。"
   ]
  },
  {
   "cell_type": "code",
   "execution_count": 37,
   "metadata": {},
   "outputs": [
    {
     "name": "stdout",
     "output_type": "stream",
     "text": [
      "Column name: STREET TYPE\n",
      "14 different values\n",
      "\n",
      "      STREET TYPE  frequency\n",
      "AVE        940725   0.560694\n",
      "ST         523743   0.312163\n",
      "BLVD        59536   0.035485\n",
      "PL          57665   0.034370\n",
      "RD          41100   0.024497\n",
      "DR          27145   0.016179\n",
      "PKWY         6605   0.003937\n",
      "CT           3287   0.001959\n",
      "TER          2222   0.001324\n",
      "HWY          1559   0.000929\n",
      "......\n"
     ]
    },
    {
     "data": {
      "image/png": "[encoded data removed]",
      "text/plain": [
       "<Figure size 432x288 with 1 Axes>"
      ]
     },
     "metadata": {
      "needs_background": "light"
     },
     "output_type": "display_data"
    }
   ],
   "source": [
    "Count_Nominal('STREET TYPE',10)"
   ]
  },
  {
   "cell_type": "markdown",
   "metadata": {},
   "source": [
    "**数值属性摘要**"
   ]
  },
  {
   "cell_type": "markdown",
   "metadata": {},
   "source": [
    "首先，对数值属性的缺失值个数进行统计。"
   ]
  },
  {
   "cell_type": "code",
   "execution_count": 38,
   "metadata": {},
   "outputs": [
    {
     "name": "stdout",
     "output_type": "stream",
     "text": [
      "LATITUDE: 1510\n",
      "LONGITUDE: 1510\n"
     ]
    }
   ],
   "source": [
    "print('LATITUDE:',building['LATITUDE'].isnull().sum())\n",
    "print('LONGITUDE:',building['LONGITUDE'].isnull().sum())"
   ]
  },
  {
   "cell_type": "markdown",
   "metadata": {},
   "source": [
    "从结果中，可得出，数值属性LATITUDE和LONGITUDE缺失值个数均为1510。"
   ]
  },
  {
   "cell_type": "markdown",
   "metadata": {},
   "source": [
    "其次，对LATITUDE和LONGITUDE两个属性进行统计，统计其有效值数量、平均值、标准差、最小值、第一个四分位数、中位数、第二个四分位数以及最大值。结果如下所示。"
   ]
  },
  {
   "cell_type": "code",
   "execution_count": 39,
   "metadata": {},
   "outputs": [
    {
     "name": "stdout",
     "output_type": "stream",
     "text": [
      "count    1.676278e+06\n",
      "mean     4.184566e+01\n",
      "std      8.742421e-02\n",
      "min      4.164467e+01\n",
      "25%      4.177090e+01\n",
      "50%      4.185400e+01\n",
      "75%      4.191350e+01\n",
      "max      4.202269e+01\n",
      "Name: LATITUDE, dtype: float64\n",
      "\n",
      "count    1.676278e+06\n",
      "mean    -8.767266e+01\n",
      "std      5.760184e-02\n",
      "min     -8.791444e+01\n",
      "25%     -8.771392e+01\n",
      "50%     -8.766985e+01\n",
      "75%     -8.763288e+01\n",
      "max     -8.752468e+01\n",
      "Name: LONGITUDE, dtype: float64\n"
     ]
    }
   ],
   "source": [
    "print(building['LATITUDE'].describe())\n",
    "print()\n",
    "print(building['LONGITUDE'].describe())"
   ]
  },
  {
   "cell_type": "markdown",
   "metadata": {},
   "source": [
    "### 数据可视化"
   ]
  },
  {
   "cell_type": "markdown",
   "metadata": {},
   "source": [
    "**直方图与Q-Q图——数据分布**"
   ]
  },
  {
   "cell_type": "markdown",
   "metadata": {},
   "source": [
    "定义函数Distribution(column_name)，对数值属性值的出现次数进行直方图的绘制，并将其进行标准化为均值为0，方差为1的分布，将标准正态分布作为参考一起绘制Q-Q图，用于观测数据的分布情况。"
   ]
  },
  {
   "cell_type": "code",
   "execution_count": 40,
   "metadata": {},
   "outputs": [],
   "source": [
    "def Distribution(column_name):\n",
    "    column = building[column_name].dropna()\n",
    "    plt.hist(column,40)\n",
    "    plt.title(column_name)\n",
    "    plt.show()\n",
    "    \n",
    "    column = (column - column.mean()) / column.std()\n",
    "    fig = sm.qqplot(column,line = '45')\n",
    "    plt.title('Q-Q plot')\n",
    "    plt.show()"
   ]
  },
  {
   "cell_type": "markdown",
   "metadata": {},
   "source": [
    "   数值属性LATITUDE的直方图和Q-Q图结果如下。"
   ]
  },
  {
   "cell_type": "code",
   "execution_count": 41,
   "metadata": {},
   "outputs": [
    {
     "data": {
      "image/png": "[encoded data removed]",
      "text/plain": [
       "<Figure size 432x288 with 1 Axes>"
      ]
     },
     "metadata": {
      "needs_background": "light"
     },
     "output_type": "display_data"
    },
    {
     "data": {
      "image/png": "[encoded data removed]",
      "text/plain": [
       "<Figure size 432x288 with 1 Axes>"
      ]
     },
     "metadata": {
      "needs_background": "light"
     },
     "output_type": "display_data"
    }
   ],
   "source": [
    "Distribution('LATITUDE')"
   ]
  },
  {
   "cell_type": "markdown",
   "metadata": {},
   "source": [
    "从直方图以及Q-Q图可观察到，属性LATITUDE的数据模态为双峰，分布近似满足正态分布。"
   ]
  },
  {
   "cell_type": "markdown",
   "metadata": {},
   "source": [
    "数值属性LONGITUDE的直方图和Q-Q图结果如下。"
   ]
  },
  {
   "cell_type": "code",
   "execution_count": 42,
   "metadata": {},
   "outputs": [
    {
     "data": {
      "image/png": "[encoded data removed]",
      "text/plain": [
       "<Figure size 432x288 with 1 Axes>"
      ]
     },
     "metadata": {
      "needs_background": "light"
     },
     "output_type": "display_data"
    },
    {
     "data": {
      "image/png": "[encoded data removed]",
      "text/plain": [
       "<Figure size 432x288 with 1 Axes>"
      ]
     },
     "metadata": {
      "needs_background": "light"
     },
     "output_type": "display_data"
    }
   ],
   "source": [
    "Distribution('LONGITUDE')"
   ]
  },
  {
   "cell_type": "markdown",
   "metadata": {},
   "source": [
    "从直方图以及Q-Q图可观察到，属性LONGITUDE的数据模态为单峰，分布近似满足正态分布。"
   ]
  },
  {
   "cell_type": "markdown",
   "metadata": {},
   "source": [
    "**盒图——离群点**"
   ]
  },
  {
   "cell_type": "markdown",
   "metadata": {},
   "source": [
    "定义函数Boxplot(column_name)，为数值属性进行盒图的绘制，用于观测是否存在离群点。"
   ]
  },
  {
   "cell_type": "code",
   "execution_count": 43,
   "metadata": {},
   "outputs": [],
   "source": [
    "def Boxplot(column_name):\n",
    "    column = building[column_name].dropna()\n",
    "    column.plot.box(title = column_name)\n",
    "    plt.grid(linestyle=\"--\",alpha = 0.3)\n",
    "    plt.show()"
   ]
  },
  {
   "cell_type": "markdown",
   "metadata": {},
   "source": [
    "数值属性LATITUDE的盒图结果如下。"
   ]
  },
  {
   "cell_type": "code",
   "execution_count": 44,
   "metadata": {},
   "outputs": [
    {
     "data": {
      "image/png": "[encoded data removed]",
      "text/plain": [
       "<Figure size 432x288 with 1 Axes>"
      ]
     },
     "metadata": {
      "needs_background": "light"
     },
     "output_type": "display_data"
    }
   ],
   "source": [
    "Boxplot('LATITUDE')"
   ]
  },
  {
   "cell_type": "markdown",
   "metadata": {},
   "source": [
    "从盒图可观察到，属性LATITUDE的数据不存在离群点。"
   ]
  },
  {
   "cell_type": "markdown",
   "metadata": {},
   "source": [
    "数值属性LONGITUDE的盒图结果如下。"
   ]
  },
  {
   "cell_type": "code",
   "execution_count": 45,
   "metadata": {},
   "outputs": [
    {
     "data": {
      "image/png": "[encoded data removed]",
      "text/plain": [
       "<Figure size 432x288 with 1 Axes>"
      ]
     },
     "metadata": {
      "needs_background": "light"
     },
     "output_type": "display_data"
    }
   ],
   "source": [
    "Boxplot('LONGITUDE')"
   ]
  },
  {
   "cell_type": "markdown",
   "metadata": {},
   "source": [
    "从盒图可观察到，属性LONGITUDE的数据值存在着较多的小数值离群点"
   ]
  },
  {
   "cell_type": "markdown",
   "metadata": {},
   "source": [
    "## 数据缺失的处理 "
   ]
  },
  {
   "cell_type": "markdown",
   "metadata": {},
   "source": [
    "对于数据缺失的处理，首先统计每一个属性的缺失值数量。"
   ]
  },
  {
   "cell_type": "code",
   "execution_count": 46,
   "metadata": {},
   "outputs": [
    {
     "data": {
      "text/plain": [
       "ID                                    0\n",
       "VIOLATION LAST MODIFIED DATE          0\n",
       "VIOLATION DATE                        0\n",
       "VIOLATION CODE                        0\n",
       "VIOLATION STATUS                      0\n",
       "VIOLATION STATUS DATE           1036199\n",
       "VIOLATION DESCRIPTION             10768\n",
       "VIOLATION LOCATION               897282\n",
       "VIOLATION INSPECTOR COMMENTS     175463\n",
       "VIOLATION ORDINANCE               47581\n",
       "INSPECTOR ID                          0\n",
       "INSPECTION NUMBER                     0\n",
       "INSPECTION STATUS                    16\n",
       "INSPECTION WAIVED                     0\n",
       "INSPECTION CATEGORY                   0\n",
       "DEPARTMENT BUREAU                     0\n",
       "ADDRESS                               0\n",
       "STREET NUMBER                         0\n",
       "STREET DIRECTION                      0\n",
       "STREET NAME                           0\n",
       "STREET TYPE                       13541\n",
       "PROPERTY GROUP                        0\n",
       "SSA                             1356267\n",
       "LATITUDE                           1510\n",
       "LONGITUDE                          1510\n",
       "LOCATION                           1510\n",
       "Community Areas                    2279\n",
       "Zip Codes                          1510\n",
       "Boundaries - ZIP Codes             2279\n",
       "Census Tracts                      1545\n",
       "Wards                              2279\n",
       "Historical Wards 2003-2015         2279\n",
       "dtype: int64"
      ]
     },
     "execution_count": 46,
     "metadata": {},
     "output_type": "execute_result"
    }
   ],
   "source": [
    "building.isna().sum()"
   ]
  },
  {
   "cell_type": "markdown",
   "metadata": {},
   "source": [
    "从结果中，我们可以观察到，从LATITUDE开始一直到Historical Wards 2003-2015，这些数据的缺失数量较为接近，进一步观察后发现大部分是一起缺失的，因此可能是信息的不完备导致的。在此，以几个比较有意义的属性作为分析对象。"
   ]
  },
  {
   "cell_type": "markdown",
   "metadata": {},
   "source": [
    "首先定义函数Show_Nominal(pd,column,column_name,number)和Show_Numerical(pd,column,column_name)分别用于展示标称属性和数值属性的数据信息。"
   ]
  },
  {
   "cell_type": "code",
   "execution_count": 47,
   "metadata": {},
   "outputs": [],
   "source": [
    "def Show_Nominal(pd,column,column_name,number):\n",
    "    column = column.value_counts()\n",
    "    column_df = column.to_frame()\n",
    "    column_df['frequency'] = column.apply(lambda x:x / len(pd.index))\n",
    "    print(column_df.iloc[:number])\n",
    "    print('......')\n",
    "    \n",
    "    plt.bar(np.arange(number),column.iloc[:number])\n",
    "    plt.title(column_name)\n",
    "    plt.show()"
   ]
  },
  {
   "cell_type": "code",
   "execution_count": 48,
   "metadata": {},
   "outputs": [],
   "source": [
    "def Show_Numerical(pd,column,column_name):\n",
    "    print(pd[column_name].describe())\n",
    "    \n",
    "    column = pd[column_name]\n",
    "    plt.hist(column,40)\n",
    "    plt.title(column_name)\n",
    "    plt.show()\n",
    "    column = (column - column.mean()) / column.std()\n",
    "    fig = sm.qqplot(column,line = '45')\n",
    "    plt.title('Q-Q plot')\n",
    "    plt.show()"
   ]
  },
  {
   "cell_type": "markdown",
   "metadata": {},
   "source": [
    "### 删除缺失值"
   ]
  },
  {
   "cell_type": "markdown",
   "metadata": {},
   "source": [
    "此处，标称属性INSPECTION STATUS仅缺失了16个数据值，因此以其为例，分别展示删除前和删除后的结果。"
   ]
  },
  {
   "cell_type": "code",
   "execution_count": 49,
   "metadata": {},
   "outputs": [
    {
     "name": "stdout",
     "output_type": "stream",
     "text": [
      "        INSPECTION STATUS  frequency\n",
      "FAILED            1159758   0.691242\n",
      "PASSED             293076   0.174680\n",
      "CLOSED             224784   0.133976\n",
      "HOLD                  154   0.000092\n",
      "......\n"
     ]
    },
    {
     "data": {
      "image/png": "[encoded data removed]",
      "text/plain": [
       "<Figure size 432x288 with 1 Axes>"
      ]
     },
     "metadata": {
      "needs_background": "light"
     },
     "output_type": "display_data"
    },
    {
     "name": "stdout",
     "output_type": "stream",
     "text": [
      "        INSPECTION STATUS  frequency\n",
      "FAILED            1159758   0.691242\n",
      "PASSED             293076   0.174680\n",
      "CLOSED             224784   0.133976\n",
      "HOLD                  154   0.000092\n",
      "......\n"
     ]
    },
    {
     "data": {
      "image/png": "[encoded data removed]",
      "text/plain": [
       "<Figure size 432x288 with 1 Axes>"
      ]
     },
     "metadata": {
      "needs_background": "light"
     },
     "output_type": "display_data"
    }
   ],
   "source": [
    "INSPE_STATUS = building['INSPECTION STATUS']\n",
    "Show_Nominal(building,INSPE_STATUS,'INSPECTION STATUS',4)\n",
    "delete = INSPE_STATUS.dropna()\n",
    "Show_Nominal(building,delete,'INSPECTION STATUS',4)"
   ]
  },
  {
   "cell_type": "markdown",
   "metadata": {},
   "source": [
    "从结果中可以看出，对缺失值的删除对整体数据集未产生影响，因此对于INSPECTION STATUS属性的数据缺失而言，删除处理是可行的。"
   ]
  },
  {
   "cell_type": "markdown",
   "metadata": {},
   "source": [
    "### 用最高频率值来填补缺失值"
   ]
  },
  {
   "cell_type": "markdown",
   "metadata": {},
   "source": [
    "此处，以数值属性LATITUDE为例，分别展示用最高频率值填补前和填补后的结果。"
   ]
  },
  {
   "cell_type": "code",
   "execution_count": 50,
   "metadata": {},
   "outputs": [
    {
     "name": "stdout",
     "output_type": "stream",
     "text": [
      "count    1.676278e+06\n",
      "mean     4.184566e+01\n",
      "std      8.742421e-02\n",
      "min      4.164467e+01\n",
      "25%      4.177090e+01\n",
      "50%      4.185400e+01\n",
      "75%      4.191350e+01\n",
      "max      4.202269e+01\n",
      "Name: LATITUDE, dtype: float64\n"
     ]
    },
    {
     "data": {
      "image/png": "[encoded data removed]",
      "text/plain": [
       "<Figure size 432x288 with 1 Axes>"
      ]
     },
     "metadata": {
      "needs_background": "light"
     },
     "output_type": "display_data"
    },
    {
     "data": {
      "image/png": "[encoded data removed]",
      "text/plain": [
       "<Figure size 432x288 with 1 Axes>"
      ]
     },
     "metadata": {
      "needs_background": "light"
     },
     "output_type": "display_data"
    },
    {
     "name": "stdout",
     "output_type": "stream",
     "text": [
      "count    1.676278e+06\n",
      "mean     4.184566e+01\n",
      "std      8.742421e-02\n",
      "min      4.164467e+01\n",
      "25%      4.177090e+01\n",
      "50%      4.185400e+01\n",
      "75%      4.191350e+01\n",
      "max      4.202269e+01\n",
      "Name: LATITUDE, dtype: float64\n"
     ]
    },
    {
     "data": {
      "image/png": "[encoded data removed]",
      "text/plain": [
       "<Figure size 432x288 with 1 Axes>"
      ]
     },
     "metadata": {
      "needs_background": "light"
     },
     "output_type": "display_data"
    },
    {
     "data": {
      "image/png": "[encoded data removed]",
      "text/plain": [
       "<Figure size 432x288 with 1 Axes>"
      ]
     },
     "metadata": {
      "needs_background": "light"
     },
     "output_type": "display_data"
    }
   ],
   "source": [
    "LATITUDE = building['LATITUDE']\n",
    "Show_Numerical(building,LATITUDE,'LATITUDE')\n",
    "add = LATITUDE.fillna(LATITUDE.mode()[0])\n",
    "Show_Numerical(building,add,'LATITUDE')"
   ]
  },
  {
   "cell_type": "markdown",
   "metadata": {},
   "source": [
    "从结果中可以看出，用最高频率值填补缺失值对整体数据集未产生影响，因此对于LATITUDE属性的数据缺失而言，用最高频率值的填补处理是可行的。"
   ]
  },
  {
   "cell_type": "markdown",
   "metadata": {},
   "source": [
    "### 通过属性的相关关系来填补缺失值"
   ]
  },
  {
   "cell_type": "markdown",
   "metadata": {},
   "source": [
    "这里，以标称属性STREET TYPE为例。经之前的分析，STREET TYPE存在着13541个缺失值，通过属性分析，发现与STREET NAME有着属性相关关系，可通过STREET NAME数据值推断出STREET TYPE的数据值。因此，在进行人工处理后，得到了新的csv文件，验证缺失值个数为0。"
   ]
  },
  {
   "cell_type": "code",
   "execution_count": 51,
   "metadata": {},
   "outputs": [
    {
     "data": {
      "text/plain": [
       "0"
      ]
     },
     "execution_count": 51,
     "metadata": {},
     "output_type": "execute_result"
    }
   ],
   "source": [
    "building_add = pd.read_csv(\"building-violations_add.csv\")\n",
    "building_add['STREET TYPE'].isna().sum()"
   ]
  },
  {
   "cell_type": "markdown",
   "metadata": {},
   "source": [
    "接着，进行对比分析，填补后的属性频率是否发生变化。"
   ]
  },
  {
   "cell_type": "code",
   "execution_count": 52,
   "metadata": {},
   "outputs": [
    {
     "name": "stdout",
     "output_type": "stream",
     "text": [
      "      STREET TYPE  frequency\n",
      "AVE        940725   0.560694\n",
      "ST         523743   0.312163\n",
      "BLVD        59536   0.035485\n",
      "PL          57665   0.034370\n",
      "RD          41100   0.024497\n",
      "DR          27145   0.016179\n",
      "PKWY         6605   0.003937\n",
      "CT           3287   0.001959\n",
      "TER          2222   0.001324\n",
      "HWY          1559   0.000929\n",
      "......\n"
     ]
    },
    {
     "data": {
      "image/png": "[encoded data removed]",
      "text/plain": [
       "<Figure size 432x288 with 1 Axes>"
      ]
     },
     "metadata": {
      "needs_background": "light"
     },
     "output_type": "display_data"
    },
    {
     "name": "stdout",
     "output_type": "stream",
     "text": [
      "      STREET TYPE  frequency\n",
      "AVE        589897   0.562570\n",
      "ST         329906   0.314623\n",
      "PL          38675   0.036883\n",
      "BLVD        35972   0.034306\n",
      "RD          25704   0.024513\n",
      "DR          17894   0.017065\n",
      "PKWY         4650   0.004435\n",
      "CT           2261   0.002156\n",
      "TER          1167   0.001113\n",
      "HWY           801   0.000764\n",
      "......\n"
     ]
    },
    {
     "data": {
      "image/png": "[encoded data removed]",
      "text/plain": [
       "<Figure size 432x288 with 1 Axes>"
      ]
     },
     "metadata": {
      "needs_background": "light"
     },
     "output_type": "display_data"
    }
   ],
   "source": [
    "INSPE_STATUS = building['STREET TYPE']\n",
    "Show_Nominal(building,INSPE_STATUS,'STREET TYPE',10)\n",
    "INSPE_STATUS_ADD = building_add['STREET TYPE']\n",
    "Show_Nominal(building_add,INSPE_STATUS_ADD,'STREET TYPE',10)"
   ]
  },
  {
   "cell_type": "markdown",
   "metadata": {},
   "source": [
    "添加前后标称属性STREET TYPE的统计结果相比较，未有明显变化。因此，通过属性的相关关系来进行填补操作是可行的。"
   ]
  },
  {
   "cell_type": "markdown",
   "metadata": {},
   "source": [
    "### 通过数据对象之间的相似性来填补缺失值"
   ]
  },
  {
   "cell_type": "markdown",
   "metadata": {},
   "source": [
    "此处使用随机森林填补数值属性LATITUDE的缺失值。根据INSPECTION NUMBER信息实现对LATITUDE的预测，从而进行缺失值的填补。由于数据集过大而无法进行操作，因此取前150000个数据作为此次处理对象。"
   ]
  },
  {
   "cell_type": "code",
   "execution_count": 53,
   "metadata": {},
   "outputs": [
    {
     "name": "stdout",
     "output_type": "stream",
     "text": [
      "150000\n"
     ]
    }
   ],
   "source": [
    "building_small = building.head(150000)\n",
    "print (building_small.shape[0])"
   ]
  },
  {
   "cell_type": "code",
   "execution_count": 54,
   "metadata": {},
   "outputs": [
    {
     "data": {
      "text/plain": [
       "113"
      ]
     },
     "execution_count": 54,
     "metadata": {},
     "output_type": "execute_result"
    }
   ],
   "source": [
    "building_small['LATITUDE'].isna().sum()"
   ]
  },
  {
   "cell_type": "markdown",
   "metadata": {},
   "source": [
    "展示这150000个数据中数值属性LATITUDE的分布情况。"
   ]
  },
  {
   "cell_type": "code",
   "execution_count": 55,
   "metadata": {},
   "outputs": [
    {
     "name": "stdout",
     "output_type": "stream",
     "text": [
      "count    149887.000000\n",
      "mean         41.836063\n",
      "std           0.086293\n",
      "min          41.644702\n",
      "25%          41.763480\n",
      "50%          41.838064\n",
      "75%          41.902579\n",
      "max          42.022639\n",
      "Name: LATITUDE, dtype: float64\n"
     ]
    },
    {
     "data": {
      "image/png": "[encoded data removed]",
      "text/plain": [
       "<Figure size 432x288 with 1 Axes>"
      ]
     },
     "metadata": {
      "needs_background": "light"
     },
     "output_type": "display_data"
    },
    {
     "data": {
      "image/png": "[encoded data removed]",
      "text/plain": [
       "<Figure size 432x288 with 1 Axes>"
      ]
     },
     "metadata": {
      "needs_background": "light"
     },
     "output_type": "display_data"
    }
   ],
   "source": [
    "Show_Numerical(building_small,building_small['LATITUDE'],'LATITUDE')"
   ]
  },
  {
   "cell_type": "markdown",
   "metadata": {},
   "source": [
    "对这其中113个空值使用随机森林进行填补，并展示填补后的数据分布情况。"
   ]
  },
  {
   "cell_type": "code",
   "execution_count": 56,
   "metadata": {},
   "outputs": [
    {
     "name": "stdout",
     "output_type": "stream",
     "text": [
      "count    150000.000000\n",
      "mean         41.835433\n",
      "std           0.089258\n",
      "min          41.000000\n",
      "25%          41.763354\n",
      "50%          41.837979\n",
      "75%          41.902524\n",
      "max          42.022639\n",
      "Name: LATITUDE, dtype: float64\n"
     ]
    },
    {
     "data": {
      "image/png": "[encoded data removed]",
      "text/plain": [
       "<Figure size 432x288 with 1 Axes>"
      ]
     },
     "metadata": {
      "needs_background": "light"
     },
     "output_type": "display_data"
    },
    {
     "data": {
      "image/png": "[encoded data removed]",
      "text/plain": [
       "<Figure size 432x288 with 1 Axes>"
      ]
     },
     "metadata": {
      "needs_background": "light"
     },
     "output_type": "display_data"
    }
   ],
   "source": [
    "forest=pd.DataFrame(building_small)\n",
    "known = forest[forest['LATITUDE'].notnull()]\n",
    "unknown = forest[forest['LATITUDE'].isnull()]\n",
    "x = known[['INSPECTION NUMBER']]\n",
    "y = known[['LATITUDE']]\n",
    "t_x = unknown[['INSPECTION NUMBER']]\n",
    "fc=RandomForestClassifier()\n",
    "fc.fit(x,y.astype('int'))\n",
    "pr=fc.predict(t_x)\n",
    "forest.loc[forest.LATITUDE.isnull(),'LATITUDE'] = pr\n",
    "    \n",
    "Show_Numerical(building_small,building_small['LATITUDE'],'LATITUDE')"
   ]
  },
  {
   "cell_type": "markdown",
   "metadata": {},
   "source": [
    "与之前的结果相比较，变动较大。因此对于此数据集中的LATITUDE属性而言，使用随机森林进行填补缺失值是不合适的，因为数据集中不存在可作为预测根据的属性。"
   ]
  }
 ],
 "metadata": {
  "kernelspec": {
   "display_name": "Python 3",
   "language": "python",
   "name": "python3"
  },
  "language_info": {
   "codemirror_mode": {
    "name": "ipython",
    "version": 3
   },
   "file_extension": ".py",
   "mimetype": "text/x-python",
   "name": "python",
   "nbconvert_exporter": "python",
   "pygments_lexer": "ipython3",
   "version": "3.7.6"
  }
 },
 "nbformat": 4,
 "nbformat_minor": 4
}
